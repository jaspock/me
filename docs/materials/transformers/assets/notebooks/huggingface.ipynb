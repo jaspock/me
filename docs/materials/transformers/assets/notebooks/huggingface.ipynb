{
  "cells": [
    {
      "cell_type": "markdown",
      "metadata": {
        "id": "7ea76e9d"
      },
      "source": [
        "# 🤗 Tutorial"
      ],
      "id": "7ea76e9d"
    },
    {
      "cell_type": "markdown",
      "metadata": {
        "id": "76PKrOwXoraM"
      },
      "source": [
        "<a target=\"_blank\" href=\"https://colab.research.google.com/github/jaspock/me/blob/main/docs/extras/huggingface-cs224n.ipynb\">\n",
        "  <img src=\"https://colab.research.google.com/assets/colab-badge.svg\" alt=\"Open In Colab\"/></a>\n",
        "<a href=\"http://dlsi.ua.es/~japerez/\"><img src=\"https://img.shields.io/badge/Universitat-d'Alacant-5b7c99\" style=\"margin-left:10px\"></a>\n",
        "\n",
        "This notebook is mostly copied from a notebook by Ben Newman used in the Stanford course CS224N. Juan Antonio Pérez-Ortiz ammended some minor errors, and added some comments and exercises (marked with the pencil icon ✎) in 2024. These additions are labeled with the \"Universitat d'Alacant\" badge. Some cells, especially those performing fine-tuning could take a few minutes, but the whole notebook may be executed on CPU."
      ],
      "id": "76PKrOwXoraM"
    },
    {
      "cell_type": "markdown",
      "metadata": {
        "id": "NkKS0edaosEj"
      },
      "source": [
        "This notebook presents the main features of the 🤗 Transformers library. It is mostly based on the notebook used in the winter 2023 [CS224N course](https://web.stanford.edu/class/archive/cs/cs224n/cs224n.1234/) in Stanford. A [video](https://youtu.be/b80by3Xk_A8) that comments on the notebook is also available."
      ],
      "id": "NkKS0edaosEj"
    },
    {
      "cell_type": "markdown",
      "metadata": {
        "id": "sKB26q-4-X8r"
      },
      "source": [
        "### CS224N: Hugging Face Transformers Tutorial (Winter '22)\n",
        "\n",
        "Author: Ben Newman\n",
        "\n",
        "Thanks to Anna Goldie for feedback!\n",
        "\n",
        "This notebook will give an introduction to the Hugging Face Transformers Python library and some common patterns that you can use to take advantage of it. It is most useful for using or fine-tuning pretrained transformer models for your projects.\n",
        "\n",
        "Hugging Face provides access to models (both the code that implements them and their pre-trained weights), model-specific tokenizers, as well as pipelines for common NLP tasks, and datasets and metrics in a separate `datasets` package. It has implementations in PyTorch, Tensorflow, and Flax (though we'll be using the PyTorch versions here!)\n",
        "\n",
        "We're going to go through a few use cases:\n",
        "* Overview of Tokenizers and Models\n",
        "* Finetuning - for your own task. We'll use a sentiment-classification example."
      ],
      "id": "sKB26q-4-X8r"
    },
    {
      "cell_type": "code",
      "execution_count": null,
      "metadata": {
        "id": "9EhWoZef-X8u"
      },
      "outputs": [],
      "source": [
        "%%capture\n",
        "!pip install transformers[torch]==4.38.2\n",
        "!pip install datasets==2.18.0"
      ],
      "id": "9EhWoZef-X8u"
    },
    {
      "cell_type": "code",
      "execution_count": null,
      "metadata": {
        "id": "Q9th7mpc-X8v"
      },
      "outputs": [],
      "source": [
        "from collections import defaultdict, Counter\n",
        "import json\n",
        "\n",
        "from matplotlib import pyplot as plt\n",
        "import numpy as np\n",
        "import torch\n",
        "\n",
        "def print_encoding(model_inputs, indent=4):\n",
        "    indent_str = \" \" * indent\n",
        "    print(\"{\")\n",
        "    for k, v in model_inputs.items():\n",
        "        print(indent_str + k + \":\")\n",
        "        print(indent_str + indent_str + str(v))\n",
        "    print(\"}\")"
      ],
      "id": "Q9th7mpc-X8v"
    },
    {
      "cell_type": "markdown",
      "metadata": {
        "id": "qmXezUMg2idv"
      },
      "source": [
        "## Common Pattern for using Hugging Face Transformers\n",
        "\n",
        "We're going to start off with a common usage pattern for Hugging Face Transformers, using the example of Sentiment Analysis.\n",
        "\n",
        "First, find a model on [the hub](https://huggingface.co/models). Anyone can upload their model for other people to use. (I'm using a sentiment analysis model from [this paper](https://papers.ssrn.com/sol3/papers.cfm?abstract_id=3489963)).\n",
        "\n",
        "Then, there are two objects that need to be initialized - a **tokenizer**, and a **model**\n",
        "\n",
        "* Tokenizer converts strings to lists of vocabulary ids that the model requires\n",
        "* Model takes the vocabulary ids and produces a prediction"
      ],
      "id": "qmXezUMg2idv"
    },
    {
      "cell_type": "markdown",
      "metadata": {
        "id": "ySLmJ0Z-oD35"
      },
      "source": [
        "![pipeline](https://huggingface.co/datasets/huggingface-course/documentation-images/resolve/main/en/chapter2/full_nlp_pipeline.svg)\n",
        "\n",
        "Image from the HuggingFace [course](https://huggingface.co/course/chapter2/2?fw=pt)."
      ],
      "id": "ySLmJ0Z-oD35"
    },
    {
      "cell_type": "code",
      "execution_count": null,
      "metadata": {
        "id": "Mcsii_O42Z8Q"
      },
      "outputs": [],
      "source": [
        "from transformers import AutoTokenizer, AutoModelForSequenceClassification\n",
        "\n",
        "# Initialize the tokenizer\n",
        "tokenizer = AutoTokenizer.from_pretrained(\"siebert/sentiment-roberta-large-english\")\n",
        "# Initialize the model\n",
        "model = AutoModelForSequenceClassification.from_pretrained(\"siebert/sentiment-roberta-large-english\")"
      ],
      "id": "Mcsii_O42Z8Q"
    },
    {
      "cell_type": "markdown",
      "metadata": {
        "id": "4cye030QMqH2"
      },
      "source": [
        "<a href=\"http://dlsi.ua.es/~japerez/\"><img src=\"https://img.shields.io/badge/Universitat-d'Alacant-5b7c99\" style=\"margin-left:10px\"></a>\n",
        "\n",
        "The downloaded models are stored in HuggingFace cache, usually found in the subdirectory `.cache/huggingface` of the user home directory. If you run this on Colab, this is `/root`.\n",
        "\n",
        "✎ Explore the content of the text files that were downloaded for the model such as `config.json`, `merges.txt`, `tokenizer_config.json` and `vocab.json`. In case you find some issues when opening the editor, use the code in the following cell to inspect the files.\n",
        "\n",
        "✎ Explore the [Models](https://huggingface.co/models) and [Datasets](https://huggingface.co/datasets) sections. In both sections, click \"Languages\" on the top left corner and explore the options for Asturian. Select 3 random models and datasets and learn about them.\n",
        "\n",
        "✎ Explore the [Open LLM Leaderboard](https://huggingface.co/spaces/HuggingFaceH4/open_llm_leaderboard)."
      ],
      "id": "4cye030QMqH2"
    },
    {
      "cell_type": "code",
      "execution_count": null,
      "metadata": {
        "id": "9Pv5Auvpcl4N"
      },
      "outputs": [],
      "source": [
        "# print file content\n",
        "import os\n",
        "file = \"config.json\"\n",
        "cache_dir = \"/root/.cache/huggingface/hub/models--siebert--sentiment-roberta-large-english/snapshots/\"\n",
        "subdir = os.listdir(cache_dir)[0]  # snapshot number is very long and may change so we read it\n",
        "with open(cache_dir+subdir+\"/\"+file, 'r') as file:\n",
        "  file_content = file.read()\n",
        "  print(file_content)"
      ],
      "id": "9Pv5Auvpcl4N"
    },
    {
      "cell_type": "markdown",
      "source": [
        "<a href=\"http://dlsi.ua.es/~japerez/\"><img src=\"https://img.shields.io/badge/Universitat-d'Alacant-5b7c99\" style=\"margin-left:10px\"></a>\n",
        "\n",
        "✎ Read about [unpacking arguments](https://www.geeksforgeeks.org/packing-and-unpacking-arguments-in-python/) in Python."
      ],
      "metadata": {
        "id": "LeZJm5YfnM7z"
      },
      "id": "LeZJm5YfnM7z"
    },
    {
      "cell_type": "code",
      "execution_count": null,
      "metadata": {
        "id": "kT_zeWRBoD36"
      },
      "outputs": [],
      "source": [
        "inputs = \"I'm excited to learn about Hugging Face Transformers!\"\n",
        "tokenized_inputs = tokenizer(inputs, return_tensors=\"pt\")  # good integration with PyTorch\n",
        "outputs = model(**tokenized_inputs)\n",
        "\n",
        "labels = ['NEGATIVE', 'POSITIVE']\n",
        "prediction = torch.argmax(outputs.logits)\n",
        "\n",
        "print(\"Input:\")\n",
        "print(inputs)\n",
        "print()\n",
        "print(\"Tokenized Inputs:\")\n",
        "print_encoding(tokenized_inputs)\n",
        "print()\n",
        "print(\"Model Outputs:\")\n",
        "print(outputs)\n",
        "print()\n",
        "print(f\"The prediction is {labels[prediction]}\")"
      ],
      "id": "kT_zeWRBoD36"
    },
    {
      "cell_type": "markdown",
      "metadata": {
        "id": "a7jvH9haoD37"
      },
      "source": [
        "### Tokenizers"
      ],
      "id": "a7jvH9haoD37"
    },
    {
      "cell_type": "markdown",
      "metadata": {
        "id": "43FLbwgz-X83"
      },
      "source": [
        "Pretrained models are implemented along with **tokenizers** that are used to preprocess their inputs. The tokenizers take raw strings or list of strings and output what are effectively dictionaries that contain the model inputs.\n",
        "\n",
        "\n",
        "You can access tokenizers either with the Tokenizer class specific to the model you want to use (here DistilBERT), or with the AutoTokenizer class. Fast Tokenizers are written in Rust, while their slow versions are written in Python."
      ],
      "id": "43FLbwgz-X83"
    },
    {
      "cell_type": "code",
      "execution_count": null,
      "metadata": {
        "id": "Pu6L0lWG-X83",
        "scrolled": true
      },
      "outputs": [],
      "source": [
        "from transformers import DistilBertTokenizer, DistilBertTokenizerFast, AutoTokenizer\n",
        "\n",
        "tokenizer = DistilBertTokenizer.from_pretrained(\"distilbert-base-cased\")      # written in Python\n",
        "print(tokenizer)\n",
        "tokenizer = DistilBertTokenizerFast.from_pretrained(\"distilbert-base-cased\")  # written in Rust\n",
        "print(tokenizer)\n",
        "tokenizer = AutoTokenizer.from_pretrained(\"distilbert-base-cased\") # convenient! Defaults to Fast\n",
        "print(tokenizer)"
      ],
      "id": "Pu6L0lWG-X83"
    },
    {
      "cell_type": "markdown",
      "source": [
        "<a href=\"http://dlsi.ua.es/~japerez/\"><img src=\"https://img.shields.io/badge/Universitat-d'Alacant-5b7c99\" style=\"margin-left:10px\"></a>\n",
        "\n",
        "✎ Explore the text files downloaded for the tokenizer."
      ],
      "metadata": {
        "id": "A24_mJocouif"
      },
      "id": "A24_mJocouif"
    },
    {
      "cell_type": "code",
      "execution_count": null,
      "metadata": {
        "id": "zrPzbBhR-X84"
      },
      "outputs": [],
      "source": [
        "# This is how you call the tokenizer\n",
        "input_str = \"Hugging Face Transformers is great!\"\n",
        "tokenized_inputs = tokenizer(input_str)\n",
        "\n",
        "print(\"Vanilla Tokenization\")\n",
        "print_encoding(tokenized_inputs)\n",
        "print()\n",
        "\n",
        "# Two ways to access:\n",
        "print(tokenized_inputs.input_ids)  # as a property\n",
        "print(tokenized_inputs[\"input_ids\"])  # as a dictionary"
      ],
      "id": "zrPzbBhR-X84"
    },
    {
      "cell_type": "markdown",
      "metadata": {
        "id": "TFGTuumnjP-b"
      },
      "source": [
        "<a href=\"http://dlsi.ua.es/~japerez/\"><img src=\"https://img.shields.io/badge/Universitat-d'Alacant-5b7c99\" style=\"margin-left:10px\"></a>\n",
        "\n",
        "✎ Compare the speed of the fast and slow tokenizers.\n",
        "\n",
        "When we *call* the tokenizer a number of steps are sequentially performed. The next cell shows an approximation of what happens behind the scenes."
      ],
      "id": "TFGTuumnjP-b"
    },
    {
      "cell_type": "code",
      "execution_count": null,
      "metadata": {
        "id": "E_8C6L2G-X85"
      },
      "outputs": [],
      "source": [
        "cls = [tokenizer.cls_token_id]\n",
        "sep = [tokenizer.sep_token_id]\n",
        "\n",
        "# Tokenization happens in a few steps:\n",
        "input_tokens = tokenizer.tokenize(input_str)\n",
        "input_ids = tokenizer.convert_tokens_to_ids(input_tokens)\n",
        "input_ids_special_tokens = cls + input_ids + sep\n",
        "\n",
        "decoded_str = tokenizer.decode(input_ids_special_tokens)\n",
        "\n",
        "print(\"start:                \", input_str)\n",
        "print(\"tokenize:             \", input_tokens)\n",
        "print(\"convert_tokens_to_ids:\", input_ids)\n",
        "print(\"add special tokens:   \", input_ids_special_tokens)\n",
        "print(\"--------\")\n",
        "print(\"decode:               \", decoded_str)\n",
        "\n",
        "# NOTE that these steps don't create the attention mask or add the special characters"
      ],
      "id": "E_8C6L2G-X85"
    },
    {
      "cell_type": "code",
      "execution_count": null,
      "metadata": {
        "id": "tdoZ3EEU-X86"
      },
      "outputs": [],
      "source": [
        "# For Fast Tokenizers, there's another option to obtain the subword corresponding to a character in the input\n",
        "inputs = tokenizer._tokenizer.encode(input_str)\n",
        "\n",
        "print(input_str)\n",
        "print(\"-\"*5)\n",
        "print(f\"Number of tokens: {len(inputs)}\")\n",
        "print(f\"Ids: {inputs.ids}\")\n",
        "print(f\"Tokens: {inputs.tokens}\")\n",
        "print(f\"Special tokens mask: {inputs.special_tokens_mask}\")\n",
        "print()\n",
        "print(\"char_to_word gives the wordpiece of a character in the input\")\n",
        "char_idx = 8\n",
        "print(f\"For example, the {char_idx + 1}th character of the string is '{input_str[char_idx]}',\"+\\\n",
        "      f\" and it's part of wordpiece {inputs.char_to_token(char_idx)}, '{inputs.tokens[inputs.char_to_token(char_idx)]}'\")"
      ],
      "id": "tdoZ3EEU-X86"
    },
    {
      "cell_type": "code",
      "execution_count": null,
      "metadata": {
        "id": "vt5WV-6S-X87"
      },
      "outputs": [],
      "source": [
        "# Other cool tricks:\n",
        "# The tokenizer can return pytorch tensors\n",
        "model_inputs = tokenizer(\"Hugging Face Transformers is great!\", return_tensors=\"pt\")\n",
        "print(\"PyTorch Tensors:\")\n",
        "print_encoding(model_inputs)"
      ],
      "id": "vt5WV-6S-X87"
    },
    {
      "cell_type": "code",
      "execution_count": null,
      "metadata": {
        "id": "HI3bAzpeoD3_"
      },
      "outputs": [],
      "source": [
        "# You can pass multiple strings into the tokenizer and pad them as you need\n",
        "model_inputs = tokenizer([\"Hugging Face Transformers is great!\",\n",
        "                         \"The quick brown fox jumps over the lazy dog.\",\n",
        "                         ],\n",
        "                         return_tensors=\"pt\",\n",
        "                         padding=True,\n",
        "                         truncation=True)\n",
        "print(f\"Pad token: {tokenizer.pad_token} | Pad token id: {tokenizer.pad_token_id}\")\n",
        "print(\"Padding:\")\n",
        "print_encoding(model_inputs)"
      ],
      "id": "HI3bAzpeoD3_"
    },
    {
      "cell_type": "code",
      "execution_count": null,
      "metadata": {
        "id": "iSZat-nkoD3_",
        "scrolled": false
      },
      "outputs": [],
      "source": [
        "# You can also decode a whole batch at once:\n",
        "print(\"Batch Decode:\")\n",
        "print(tokenizer.batch_decode(model_inputs.input_ids))\n",
        "print()\n",
        "print(\"Batch Decode: (no special characters)\")\n",
        "print(tokenizer.batch_decode(model_inputs.input_ids, skip_special_tokens=True))"
      ],
      "id": "iSZat-nkoD3_"
    },
    {
      "cell_type": "markdown",
      "metadata": {
        "id": "JmZNLz_noD4A"
      },
      "source": [
        "For more information about tokenizers, you can look at:\n",
        "[Hugging Face Transformers Docs](https://huggingface.co/docs/transformers/main_classes/tokenizer) and the [Hugging Face Tokenizers Library](https://huggingface.co/docs/tokenizers/python/latest/quicktour.html) (For the Fast Tokenizers). The Tokenizers Library even lets you train your own tokenizers!"
      ],
      "id": "JmZNLz_noD4A"
    },
    {
      "cell_type": "markdown",
      "metadata": {
        "id": "6juLjnNt-X87"
      },
      "source": [
        "### Models\n",
        "\n",
        "Initializing models is very similar to initializing tokenizers. You can either use the model class specific to your model or you can use an AutoModel class. I tend to prefer AutoModel, especially when I want to compare models, because it's easy to specify the models as strings.\n",
        "\n",
        "While most of the pretrained transformers have similar architecture, if you there are additional weights, called \"heads\" that you have to train if you're doing sequence classification, question answering, or some other task. Hugging Face automatically sets up the architecture you need when you specify the model class. For example, we are doing sentiment analysis, so we are going to use `DistilBertForSequenceClassification`. If we were going to continue training DistilBERT on its masked-language modeling training objective, we would use `DistilBertForMaskedLM`, and if we just wanted the model's representations, maybe for our own downstream task, we could just use `DistilBertModel`.\n",
        "\n",
        "\n",
        "Here's a picture of a model found [here](https://huggingface.co/course/chapter2/2?fw=pt).\n",
        "\n",
        "![model image](https://huggingface.co/datasets/huggingface-course/documentation-images/resolve/main/en/chapter2/transformer_and_head.svg)\n",
        "\n",
        "\n",
        "Here are some examples of models:\n",
        "\n",
        "- ForMaskedLM\n",
        "- ForSequenceClassification\n",
        "- ForTokenClassification\n",
        "- ForQuestionAnswering\n",
        "- ForMultipleChoice\n",
        "\n",
        "There are three types of models:\n",
        "\n",
        "* Encoders (e.g. BERT)\n",
        "* Decoders (e.g. GPT2)\n",
        "* Encoder-Decoder models (e.g. BART or T5)\n",
        "\n",
        "The task-specific classes you have available depend on what type of model you're dealing with.\n",
        "\n",
        "A full list of choices are available in the [docs](https://huggingface.co/docs/transformers/model_doc/auto). Note that not all models are compatible with all model architectures, for example DistilBERT is not compatible with the Seq2Seq models because it only consists of an encoder.\n"
      ],
      "id": "6juLjnNt-X87"
    },
    {
      "cell_type": "code",
      "execution_count": null,
      "metadata": {
        "id": "RXm1K2sF-X88",
        "scrolled": true
      },
      "outputs": [],
      "source": [
        "from transformers import AutoModelForSequenceClassification, DistilBertForSequenceClassification\n",
        "\n",
        "model = DistilBertForSequenceClassification.from_pretrained('distilbert-base-cased', num_labels=2)\n",
        "model = AutoModelForSequenceClassification.from_pretrained('distilbert-base-cased', num_labels=2)\n"
      ],
      "id": "RXm1K2sF-X88"
    },
    {
      "cell_type": "markdown",
      "metadata": {
        "id": "1opFV7Vi-X88"
      },
      "source": [
        "We get a warning here because the sequence classification parameters haven't been trained yet.\n",
        "\n",
        "Passing inputs to the model is super easy. They take inputs as keyword arguments."
      ],
      "id": "1opFV7Vi-X88"
    },
    {
      "cell_type": "code",
      "execution_count": null,
      "metadata": {
        "id": "TDZ72k-U-X89"
      },
      "outputs": [],
      "source": [
        "model_inputs = tokenizer(input_str, return_tensors=\"pt\")\n",
        "\n",
        "# Option 1\n",
        "model_outputs = model(input_ids=model_inputs.input_ids, attention_mask=model_inputs.attention_mask)\n",
        "\n",
        "# Option 2 - the keys of the dictionary the tokenizer returns are the same as the keyword arguments\n",
        "model_outputs = model(**model_inputs)\n",
        "\n",
        "print(model_inputs)\n",
        "print()\n",
        "print(model_outputs)\n",
        "print()\n",
        "print(f\"Distribution over labels: {torch.softmax(model_outputs.logits, dim=1)}\")"
      ],
      "id": "TDZ72k-U-X89"
    },
    {
      "cell_type": "markdown",
      "metadata": {
        "id": "oRRqhVUloD4C"
      },
      "source": [
        "If you notice, it's a bit weird that we have two classes for a binary classification task - you could easily have a single class and just choose a threshold. It's like this because of how huggingface models calculate the loss. This will increase the number of parameters we have, but shouldn't otherwise affect performance."
      ],
      "id": "oRRqhVUloD4C"
    },
    {
      "cell_type": "markdown",
      "metadata": {
        "id": "rvie4gYD-X8-"
      },
      "source": [
        "These models are just Pytorch Modules! You can can calculate the loss with your `loss_func` and call `loss.backward`. You can use any of the optimizers or learning rate schedulers that you used"
      ],
      "id": "rvie4gYD-X8-"
    },
    {
      "cell_type": "markdown",
      "source": [
        "<a href=\"http://dlsi.ua.es/~japerez/\"><img src=\"https://img.shields.io/badge/Universitat-d'Alacant-5b7c99\" style=\"margin-left:10px\"></a>\n",
        "\n",
        "If you run the next cell multiple times, you will be actually running the standard training loop. See how the loss goes down!"
      ],
      "metadata": {
        "id": "gdeZgAZAtgKa"
      },
      "id": "gdeZgAZAtgKa"
    },
    {
      "cell_type": "code",
      "execution_count": null,
      "metadata": {
        "id": "Irxo7sDboD4C"
      },
      "outputs": [],
      "source": [
        "# You can calculate the loss like normal\n",
        "optimizer = torch.optim.SGD(model.parameters(), lr=0.001, momentum=0.9)\n",
        "label = torch.tensor([1])  # expected output\n",
        "optimizer.zero_grad()\n",
        "model_outputs = model(**model_inputs)\n",
        "loss = torch.nn.functional.cross_entropy(model_outputs.logits, label)\n",
        "print(loss)\n",
        "loss.backward()\n",
        "optimizer.step()\n",
        "\n",
        "# You can get the parameters\n",
        "list(model.named_parameters())[0]"
      ],
      "id": "Irxo7sDboD4C"
    },
    {
      "cell_type": "markdown",
      "metadata": {
        "id": "mpHeG1zDoD4D"
      },
      "source": [
        "Hugging Face provides an additional easy way to automatically calculate the loss by passing the argument `labels` to the model forward function:"
      ],
      "id": "mpHeG1zDoD4D"
    },
    {
      "cell_type": "code",
      "execution_count": null,
      "metadata": {
        "id": "S148gCyG-X8-"
      },
      "outputs": [],
      "source": [
        "# To calculate the loss, we need to pass in a label:\n",
        "model_inputs = tokenizer(input_str, return_tensors=\"pt\")\n",
        "\n",
        "labels = ['NEGATIVE', 'POSITIVE']\n",
        "model_inputs['labels'] = torch.tensor([1])\n",
        "\n",
        "model_outputs = model(**model_inputs)\n",
        "\n",
        "print(model_outputs)\n",
        "print(f\"Model predictions: {labels[model_outputs.logits.argmax()]}\")"
      ],
      "id": "S148gCyG-X8-"
    },
    {
      "cell_type": "markdown",
      "metadata": {
        "id": "7Y6E3IxzoD4E"
      },
      "source": [
        "One final note - you can get the hidden states and attention weights from the models really easily. This is particularly helpful if you're working on an analysis project. (For example, see [What does BERT look at?](https://arxiv.org/abs/1906.04341))."
      ],
      "id": "7Y6E3IxzoD4E"
    },
    {
      "cell_type": "code",
      "execution_count": null,
      "metadata": {
        "id": "5WzqhpquoD4E"
      },
      "outputs": [],
      "source": [
        "from transformers import AutoModel\n",
        "\n",
        "model = AutoModel.from_pretrained(\"distilbert-base-cased\", output_attentions=True, output_hidden_states=True)\n",
        "model.eval()\n",
        "\n",
        "model_inputs = tokenizer(input_str, return_tensors=\"pt\")\n",
        "with torch.no_grad():\n",
        "    model_output = model(**model_inputs)\n",
        "\n",
        "print(\"Hidden state size (per layer):  \", model_output.hidden_states[0].shape)\n",
        "print(\"Attention head size (per layer):\", model_output.attentions[0].shape)     # (layer, batch, query_word_idx, key_word_idxs)\n",
        "                                                                                # y-axis is query, x-axis is key\n",
        "#print(model_output)"
      ],
      "id": "5WzqhpquoD4E"
    },
    {
      "cell_type": "markdown",
      "source": [
        "<a href=\"http://dlsi.ua.es/~japerez/\"><img src=\"https://img.shields.io/badge/Universitat-d'Alacant-5b7c99\" style=\"margin-left:10px\"></a>\n",
        "\n",
        "✎ Justify what represents every dimension in the shapes emitted by the previous cell.\n",
        "\n",
        "Note that the factory method `AutoModel.from_pretrained` reads the type in the configuration file and uses reflection to instantiate the corresponding object:\n",
        "\n",
        "```\n",
        "class MyClass:\n",
        "   pass\n",
        "c = globals()[\"MyClass\"]\n",
        "object = c()\n",
        "name = MyClass.__name__\n",
        "```"
      ],
      "metadata": {
        "id": "SFrsWjnKvsiw"
      },
      "id": "SFrsWjnKvsiw"
    },
    {
      "cell_type": "code",
      "execution_count": null,
      "metadata": {
        "id": "SH_MAK-soD4F"
      },
      "outputs": [],
      "source": [
        "tokens = tokenizer.convert_ids_to_tokens(model_inputs.input_ids[0])\n",
        "print(tokens)\n",
        "\n",
        "n_layers = len(model_output.attentions)\n",
        "n_heads = len(model_output.attentions[0][0])\n",
        "fig, axes = plt.subplots(6, 12)\n",
        "fig.set_size_inches(18.5*2, 10.5*2)\n",
        "for layer in range(n_layers):\n",
        "    for i in range(n_heads):\n",
        "        axes[layer, i].imshow(model_output.attentions[layer][0, i])\n",
        "        axes[layer][i].set_xticks(list(range(9)))\n",
        "        axes[layer][i].set_xticklabels(labels=tokens, rotation=\"vertical\")\n",
        "        axes[layer][i].set_yticks(list(range(9)))\n",
        "        axes[layer][i].set_yticklabels(labels=tokens)\n",
        "\n",
        "        if layer == 5:\n",
        "            axes[layer, i].set(xlabel=f\"head={i}\")\n",
        "        if i == 0:\n",
        "            axes[layer, i].set(ylabel=f\"layer={layer}\")\n",
        "\n",
        "plt.subplots_adjust(wspace=0.3)\n",
        "plt.show()"
      ],
      "id": "SH_MAK-soD4F"
    },
    {
      "cell_type": "markdown",
      "source": [
        "<a href=\"http://dlsi.ua.es/~japerez/\"><img src=\"https://img.shields.io/badge/Universitat-d'Alacant-5b7c99\" style=\"margin-left:10px\"></a>\n",
        "\n",
        "✎ Propose a taxonomy of the different attention patterns that you observe in the previous plots."
      ],
      "metadata": {
        "id": "st46U0f4uyRa"
      },
      "id": "st46U0f4uyRa"
    },
    {
      "cell_type": "markdown",
      "metadata": {
        "id": "uumcErs2-X80"
      },
      "source": [
        "## Finetuning\n",
        "\n",
        "For your projects, you are much more likely to want to finetune a pretrained model. This is a little bit more involved, but is still quite easy."
      ],
      "id": "uumcErs2-X80"
    },
    {
      "cell_type": "markdown",
      "metadata": {
        "id": "WDdGp4Ua-X81"
      },
      "source": [
        "### Loading in a dataset\n",
        "\n",
        "In addition to having models, the [the hub](https://huggingface.co/datasets) also has datasets."
      ],
      "id": "WDdGp4Ua-X81"
    },
    {
      "cell_type": "code",
      "execution_count": null,
      "metadata": {
        "id": "OTsW-Wwi-X81"
      },
      "outputs": [],
      "source": [
        "from datasets import load_dataset, DatasetDict\n",
        "\n",
        "imdb_dataset = load_dataset(\"imdb\")\n",
        "\n",
        "# Just take the first 50 words for speed/running on cpu\n",
        "def truncate(example):\n",
        "    return {\n",
        "        'text': \" \".join(example['text'].split()[:50]),\n",
        "        'label': example['label']\n",
        "    }\n",
        "\n",
        "# Take 128 random examples for train and 32 validation\n",
        "small_imdb_dataset = DatasetDict(\n",
        "    train=imdb_dataset['train'].shuffle(seed=1111).select(range(128)).map(truncate),\n",
        "    val=imdb_dataset['train'].shuffle(seed=1111).select(range(128, 160)).map(truncate),\n",
        ")"
      ],
      "id": "OTsW-Wwi-X81"
    },
    {
      "cell_type": "markdown",
      "source": [
        "<a href=\"http://dlsi.ua.es/~japerez/\"><img src=\"https://img.shields.io/badge/Universitat-d'Alacant-5b7c99\" style=\"margin-left:10px\"></a>\n",
        "\n",
        "See the data type of `small_imdb_dataset`: it is a dictionary (actually, a `DatasetDict`, which wraps a dictionary) containing two keys: `train` and `val`. The values of each of these keys is of type `Dataset`. Each dataset contains a number of entries corresponding to the input text and the associated label."
      ],
      "metadata": {
        "id": "vDcSr_xN1c9H"
      },
      "id": "vDcSr_xN1c9H"
    },
    {
      "cell_type": "code",
      "execution_count": null,
      "metadata": {
        "id": "vCaX-gNo0OEV"
      },
      "outputs": [],
      "source": [
        "small_imdb_dataset"
      ],
      "id": "vCaX-gNo0OEV"
    },
    {
      "cell_type": "code",
      "execution_count": null,
      "metadata": {
        "id": "bBS4c44A-X82"
      },
      "outputs": [],
      "source": [
        "small_imdb_dataset['train'][:10]"
      ],
      "id": "bBS4c44A-X82"
    },
    {
      "cell_type": "code",
      "execution_count": null,
      "metadata": {
        "id": "3bjqop3N-X8_"
      },
      "outputs": [],
      "source": [
        "# Prepare the dataset - this tokenizes the dataset in batches of 16 examples.\n",
        "small_tokenized_dataset = small_imdb_dataset.map(\n",
        "    lambda example: tokenizer(example['text'], padding=True, truncation=True),  # tokenizer adds columns input_ids and attention_mask\n",
        "    batched=True,\n",
        "    batch_size=16\n",
        ")\n",
        "\n",
        "small_tokenized_dataset = small_tokenized_dataset.remove_columns([\"text\"])  # this column is not needed anymore\n",
        "small_tokenized_dataset = small_tokenized_dataset.rename_column(\"label\", \"labels\")\n",
        "small_tokenized_dataset.set_format(\"torch\")"
      ],
      "id": "3bjqop3N-X8_"
    },
    {
      "cell_type": "code",
      "execution_count": null,
      "metadata": {
        "id": "450eUYlf-X8_"
      },
      "outputs": [],
      "source": [
        "small_tokenized_dataset['train'][0:2]"
      ],
      "id": "450eUYlf-X8_"
    },
    {
      "cell_type": "markdown",
      "source": [
        "<a href=\"http://dlsi.ua.es/~japerez/\"><img src=\"https://img.shields.io/badge/Universitat-d'Alacant-5b7c99\" style=\"margin-left:10px\"></a>\n",
        "\n",
        "`torch.DataLoader` wraps an iterable around the Dataset to enable easy access to the samples."
      ],
      "metadata": {
        "id": "D0dQdihk4b0K"
      },
      "id": "D0dQdihk4b0K"
    },
    {
      "cell_type": "code",
      "execution_count": null,
      "metadata": {
        "id": "Q3e7_htt-X8_"
      },
      "outputs": [],
      "source": [
        "from torch.utils.data import DataLoader\n",
        "\n",
        "train_dataloader = DataLoader(small_tokenized_dataset['train'], batch_size=16)\n",
        "eval_dataloader = DataLoader(small_tokenized_dataset['val'], batch_size=16)"
      ],
      "id": "Q3e7_htt-X8_"
    },
    {
      "cell_type": "markdown",
      "metadata": {
        "id": "qRm6Tw_z-X8-"
      },
      "source": [
        "### Training\n",
        "\n",
        "To train your models, you can just use the same kind of training loop that you would use in Pytorch. Hugging Face models are also `torch.nn.Module`s so backpropagation happens the same way and you can even use the same optimizers. Hugging Face also includes optimizers and learning rate schedules that were used to train Transformer models, so you can use these too.\n",
        "\n",
        "For optimization, we're using the AdamW Optimizer, which is almost identical to Adam except it also includes weight decay.\n",
        "And we're using a linear learning rate scheduler, which reduces the learning rate a little bit after each training step over the course of training.\n",
        "\n",
        "There are other optimizers and learning rate schedulers you can use, but these are the default. If you want to explore, you can look at the ones [Hugging Face offers](https://huggingface.co/docs/transformers/main_classes/optimizer_schedules#schedules), the ones available through [Pytorch](https://pytorch.org/docs/stable/optim.html#how-to-adjust-learning-rate) (e.g. [ReduceLROnPlateau](https://pytorch.org/docs/stable/generated/torch.optim.lr_scheduler.ReduceLROnPlateau.html), which only decreases the learning rate when the validation loss stops decreasing), or write your own."
      ],
      "id": "qRm6Tw_z-X8-"
    },
    {
      "cell_type": "markdown",
      "source": [
        "<a href=\"http://dlsi.ua.es/~japerez/\"><img src=\"https://img.shields.io/badge/Universitat-d'Alacant-5b7c99\" style=\"margin-left:10px\"></a>\n",
        "\n",
        "The `model.state_dict()` method returns a dictionary containing a whole state of the model, including the parameters of each layer. This is useful for saving the trained model for future use without needing to save the entire model object. On the other hand, `optimizer.state_dict()` returns a dictionary containing information about the optimizer's state, as well as the hyperparameters used. This is crucial for resuming training from a specific point, as it allows the optimizer to continue with the exact same state. Together, these methods are essential for checkpointing during training, which is a process of intermittently saving the state of a model and optimizer to prevent data loss in case of an interruption."
      ],
      "metadata": {
        "id": "6ut-zUpL91ui"
      },
      "id": "6ut-zUpL91ui"
    },
    {
      "cell_type": "code",
      "execution_count": null,
      "metadata": {
        "id": "A7CvjTIv-X9A"
      },
      "outputs": [],
      "source": [
        "from transformers import AdamW, get_linear_schedule_with_warmup\n",
        "from tqdm.notebook import tqdm\n",
        "\n",
        "os.makedirs(\"checkpoints\", exist_ok=True)\n",
        "model = DistilBertForSequenceClassification.from_pretrained('distilbert-base-cased', num_labels=2)\n",
        "\n",
        "num_epochs = 3\n",
        "num_training_steps = 3 * len(train_dataloader)\n",
        "optimizer = AdamW(model.parameters(), lr=5e-5, weight_decay=0.01)\n",
        "lr_scheduler = get_linear_schedule_with_warmup(optimizer, num_warmup_steps=0, num_training_steps=num_training_steps)\n",
        "\n",
        "best_val_loss = float(\"inf\")\n",
        "progress_bar = tqdm(range(num_training_steps))  # tqdm provides a beautiful, extensible progress bar\n",
        "for epoch in range(num_epochs):\n",
        "    # training\n",
        "    model.train()\n",
        "    for batch_i, batch in enumerate(train_dataloader):\n",
        "        output = model(**batch)\n",
        "        optimizer.zero_grad()\n",
        "        output.loss.backward()\n",
        "        optimizer.step()\n",
        "        lr_scheduler.step()\n",
        "        progress_bar.update(1)\n",
        "\n",
        "    # validation\n",
        "    model.eval()\n",
        "    for batch_i, batch in enumerate(eval_dataloader):\n",
        "        with torch.no_grad():\n",
        "            output = model(**batch)\n",
        "        loss += output.loss\n",
        "\n",
        "    avg_val_loss = loss / len(eval_dataloader)\n",
        "    print(f\"Validation loss: {avg_val_loss}\")\n",
        "    if avg_val_loss < best_val_loss:\n",
        "        print(\"Saving checkpoint!\")\n",
        "        best_val_loss = avg_val_loss\n",
        "        torch.save({\n",
        "            'epoch': epoch,\n",
        "            'model_state_dict': model.state_dict(),\n",
        "            'optimizer_state_dict': optimizer.state_dict(),\n",
        "            'val_loss': best_val_loss,\n",
        "            },\n",
        "            f\"checkpoints/epoch_{epoch}.pt\"\n",
        "        )"
      ],
      "id": "A7CvjTIv-X9A"
    },
    {
      "cell_type": "markdown",
      "source": [
        "<a href=\"http://dlsi.ua.es/~japerez/\"><img src=\"https://img.shields.io/badge/Universitat-d'Alacant-5b7c99\" style=\"margin-left:10px\"></a>\n",
        "\n",
        "✎ Explore the contents of the `checkpoints` directory."
      ],
      "metadata": {
        "id": "EEdCBduH-6ki"
      },
      "id": "EEdCBduH-6ki"
    },
    {
      "cell_type": "markdown",
      "metadata": {
        "id": "YrfE9c04-X9A"
      },
      "source": [
        "### Trainer class\n",
        "\n",
        "While you can use PyTorch to train your models, Hugging Face offers a powerful `Trainer` class to handle most needs. I think it works pretty well, though there are some customizations I'd recommend."
      ],
      "id": "YrfE9c04-X9A"
    },
    {
      "cell_type": "code",
      "execution_count": null,
      "metadata": {
        "id": "fQDkqtT7-X9B"
      },
      "outputs": [],
      "source": [
        "imdb_dataset = load_dataset(\"imdb\")\n",
        "\n",
        "small_imdb_dataset = DatasetDict(\n",
        "    train=imdb_dataset['train'].shuffle(seed=1111).select(range(128)).map(truncate),\n",
        "    val=imdb_dataset['train'].shuffle(seed=1111).select(range(128, 160)).map(truncate),\n",
        ")\n",
        "\n",
        "small_tokenized_dataset = small_imdb_dataset.map(\n",
        "    lambda example: tokenizer(example['text'], truncation=True),\n",
        "    batched=True,\n",
        "    batch_size=16\n",
        ")"
      ],
      "id": "fQDkqtT7-X9B"
    },
    {
      "cell_type": "markdown",
      "metadata": {
        "id": "RULukU5eoD4M"
      },
      "source": [
        "`TrainingArguments` specifies different training parameters like how often to evaluate and save model checkpoints, where to save them, etc. There are **many** aspects you can customize and it's worth checking them out [here](https://huggingface.co/docs/transformers/main_classes/trainer#transformers.TrainingArguments). Some things you can control include:\n",
        "* learning rate, weight decay, gradient clipping,\n",
        "* checkpointing, logging, and evaluation frequency\n",
        "* where you log to (default is tensorboard, but if you use WandB or MLFlow they have integrations)\n",
        "\n",
        "The `Trainer` actually performs the training. You can pass it the `TrainingArguments`, model, the datasets, tokenizer, optimizer, and even model checkpoints to resume training from. The `compute_metrics` function is called at the end of evaluation/validation to calculate evaluation metrics."
      ],
      "id": "RULukU5eoD4M"
    },
    {
      "cell_type": "code",
      "execution_count": null,
      "metadata": {
        "id": "FEmERCu_-X9B",
        "scrolled": true
      },
      "outputs": [],
      "source": [
        "from transformers import TrainingArguments, Trainer\n",
        "\n",
        "model = DistilBertForSequenceClassification.from_pretrained('distilbert-base-cased', num_labels=2)\n",
        "\n",
        "arguments = TrainingArguments(\n",
        "    output_dir=\"sample_hf_trainer\",\n",
        "    per_device_train_batch_size=16,\n",
        "    per_device_eval_batch_size=16,\n",
        "    num_train_epochs=3,\n",
        "    evaluation_strategy=\"epoch\", # run validation at the end of each epoch\n",
        "    save_strategy=\"epoch\",\n",
        "    learning_rate=2e-5,\n",
        "    load_best_model_at_end=True,\n",
        "    logging_steps = 6,\n",
        "    seed=224\n",
        ")\n",
        "\n",
        "\n",
        "def compute_metrics(eval_pred):\n",
        "    \"\"\"Called at the end of validation. Gives accuracy\"\"\"\n",
        "    logits, labels = eval_pred\n",
        "    predictions = np.argmax(logits, axis=-1)\n",
        "    # calculates the accuracy\n",
        "    return {\"accuracy\": np.mean(predictions == labels)}\n",
        "\n",
        "\n",
        "trainer = Trainer(\n",
        "    model=model,\n",
        "    args=arguments,\n",
        "    train_dataset=small_tokenized_dataset['train'],  # DataCollator missing\n",
        "    eval_dataset=small_tokenized_dataset['val'], # change to test when you do your final evaluation!\n",
        "    tokenizer=tokenizer,\n",
        "    compute_metrics=compute_metrics\n",
        ")"
      ],
      "id": "FEmERCu_-X9B"
    },
    {
      "cell_type": "markdown",
      "metadata": {
        "id": "MbyK1W95-X9B"
      },
      "source": [
        "#### Callbacks: Logging and Early Stopping\n",
        "\n",
        "Hugging Face Transformers also allows you to write `Callbacks` if you want certain things to happen at different points during training (e.g. after evaluation or after an epoch has finished). For example, there is a callback for early stopping, and I usually write one for logging as well.\n",
        "\n",
        "For more information on callbacks see [here](https://huggingface.co/docs/transformers/main_classes/callback#transformers.TrainerCallback)."
      ],
      "id": "MbyK1W95-X9B"
    },
    {
      "cell_type": "code",
      "execution_count": null,
      "metadata": {
        "id": "vKO3TkAnoD4N"
      },
      "outputs": [],
      "source": [
        "from transformers import TrainerCallback, EarlyStoppingCallback\n",
        "\n",
        "class LoggingCallback(TrainerCallback):\n",
        "    def __init__(self, log_path):\n",
        "        self.log_path = log_path\n",
        "\n",
        "    def on_log(self, args, state, control, logs=None, **kwargs):\n",
        "        _ = logs.pop(\"total_flos\", None)\n",
        "        if state.is_local_process_zero:\n",
        "            with open(self.log_path, \"a\") as f:\n",
        "                f.write(json.dumps(logs) + \"\\n\")\n",
        "\n",
        "\n",
        "trainer.add_callback(EarlyStoppingCallback(early_stopping_patience=1, early_stopping_threshold=0.0))\n",
        "trainer.add_callback(LoggingCallback(\"sample_hf_trainer/log.jsonl\"))"
      ],
      "id": "vKO3TkAnoD4N"
    },
    {
      "cell_type": "code",
      "execution_count": null,
      "metadata": {
        "id": "tunwonc2-X9C",
        "scrolled": true
      },
      "outputs": [],
      "source": [
        "import shutil\n",
        "shutil.rmtree(\"/content/sample_hf_trainer\", ignore_errors=True)\n",
        "\n",
        "# train the model\n",
        "trainer.train()"
      ],
      "id": "tunwonc2-X9C"
    },
    {
      "cell_type": "markdown",
      "source": [
        "<a href=\"http://dlsi.ua.es/~japerez/\"><img src=\"https://img.shields.io/badge/Universitat-d'Alacant-5b7c99\" style=\"margin-left:10px\"></a>\n",
        "\n",
        "✎ Log training metadata to [Weights & Biases](https://wandb.ai/site) and inspect the resulting dashboard. See instructions on the library [documentation](https://docs.wandb.ai/guides/integrations/huggingface)."
      ],
      "metadata": {
        "id": "qwSD4_s4ALKM"
      },
      "id": "qwSD4_s4ALKM"
    },
    {
      "cell_type": "code",
      "execution_count": null,
      "metadata": {
        "id": "_Q185j9V-X9C"
      },
      "outputs": [],
      "source": [
        "# evaluating the model is very easy\n",
        "\n",
        "# results = trainer.evaluate()                           # just gets evaluation metrics\n",
        "results = trainer.predict(small_tokenized_dataset['val']) # also gives you predictions"
      ],
      "id": "_Q185j9V-X9C"
    },
    {
      "cell_type": "code",
      "execution_count": null,
      "metadata": {
        "id": "UJ0aGxeh-X9D"
      },
      "outputs": [],
      "source": [
        "results"
      ],
      "id": "UJ0aGxeh-X9D"
    },
    {
      "cell_type": "code",
      "execution_count": null,
      "metadata": {
        "id": "kSGsZo3xoD4O"
      },
      "outputs": [],
      "source": [
        "# To load our saved model, we can pass the path to the checkpoint into the `from_pretrained` method:\n",
        "test_str = \"I enjoyed the movie!\"\n",
        "\n",
        "finetuned_model = AutoModelForSequenceClassification.from_pretrained(\"sample_hf_trainer/checkpoint-24\")\n",
        "model_inputs = tokenizer(test_str, return_tensors=\"pt\")\n",
        "prediction = torch.argmax(finetuned_model(**model_inputs).logits)\n",
        "print([\"NEGATIVE\", \"POSITIVE\"][prediction])"
      ],
      "id": "kSGsZo3xoD4O"
    },
    {
      "cell_type": "markdown",
      "source": [
        "<a href=\"http://dlsi.ua.es/~japerez/\"><img src=\"https://img.shields.io/badge/Universitat-d'Alacant-5b7c99\" style=\"margin-left:10px\"></a>\n",
        "\n",
        "✎ Load the model using 8-bit quantization as explained [here](https://huggingface.co/docs/transformers/main/en/quantization?bnb=4-bit#bitsandbytes). Compare the memory consumption with that of the non-quantized model.\n",
        "\n",
        "✎ Fine-tune the model using [QLoRa](https://huggingface.co/blog/4bit-transformers-bitsandbytes)."
      ],
      "metadata": {
        "id": "XQIPWaB_FaY_"
      },
      "id": "XQIPWaB_FaY_"
    },
    {
      "cell_type": "markdown",
      "metadata": {
        "id": "MllSTgehoD4O"
      },
      "source": [
        "Included here are also some practical tips for fine-tuning:\n",
        "\n",
        "*Good default hyperparameters.* The hyperparameters you will depend on your task and dataset. You should do a hyperparameter search to find the best ones. That said, here are some good initial values for fine-tuning.\n",
        "* Epochs: {2, 3, 4} (larger amounts of data need fewer epochs)\n",
        "* Batch size (bigger is better: as large as you can make it)\n",
        "* Optimizer: AdamW\n",
        "* AdamW learning rate: {2e-5, 5e-5}\n",
        "* Learning rate scheduler: linear warm up for first {0, 100, 500} steps of training\n",
        "* weight_decay (l2 regularization): {0, 0.01, 0.1}\n",
        "\n",
        "You should monitor your validation loss to decide when you've found good hyperparameters."
      ],
      "id": "MllSTgehoD4O"
    },
    {
      "cell_type": "markdown",
      "metadata": {
        "id": "gsWGQfrm-X9D"
      },
      "source": [
        "There's a lot more that we can integrate into the Trainer to make it more useful including logging, saving model checkpoints, and more! You can even sub-class it to add your own personalized components. You can check out [this link](https://huggingface.co/docs/transformers/main_classes/trainer#transformers.Trainer) for more information about the Trainer."
      ],
      "id": "gsWGQfrm-X9D"
    },
    {
      "cell_type": "markdown",
      "metadata": {
        "id": "9nCrUosgoD4P"
      },
      "source": [
        "## Appendix 0: Generation\n",
        "\n",
        "In the example above we finetuned the model on a classification task, but you can also finetune models on generation tasks. The `generate` function makes it easy to generate from these models. For example."
      ],
      "id": "9nCrUosgoD4P"
    },
    {
      "cell_type": "code",
      "execution_count": null,
      "metadata": {
        "id": "QfQEV8EKoD4P"
      },
      "outputs": [],
      "source": [
        "from transformers import AutoModelForCausalLM\n",
        "\n",
        "gpt2_tokenizer = AutoTokenizer.from_pretrained('gpt2')\n",
        "\n",
        "gpt2 = AutoModelForCausalLM.from_pretrained('distilgpt2')\n",
        "gpt2.config.pad_token_id = gpt2.config.eos_token_id  # Prevents warning during decoding"
      ],
      "id": "QfQEV8EKoD4P"
    },
    {
      "cell_type": "code",
      "execution_count": null,
      "metadata": {
        "id": "G5wo61xmoD4Q"
      },
      "outputs": [],
      "source": [
        "prompt = \"Once upon a time\"\n",
        "\n",
        "tokenized_prompt = gpt2_tokenizer(prompt, return_tensors=\"pt\")\n",
        "\n",
        "for i in range(10):\n",
        "    output = gpt2.generate(**tokenized_prompt,\n",
        "                  max_length=50,\n",
        "                  do_sample=True,\n",
        "                  top_p=0.9)\n",
        "\n",
        "    print(f\"{i + 1}) {gpt2_tokenizer.batch_decode(output)[0]}\")"
      ],
      "id": "G5wo61xmoD4Q"
    },
    {
      "cell_type": "markdown",
      "metadata": {
        "id": "QLAHLU4q9HYQ"
      },
      "source": [
        "## Appendix 1: Defining Custom Datasets\n",
        "\n",
        "There are a few ways to go about defining datasets, but I'm going to show an example using Pytorch Dataloaders. This example uses an encoder-decoder dataset,the [E2E Dataset](https://arxiv.org/abs/1706.09254), which is maps structured information about restaurants to natural language descriptions."
      ],
      "id": "QLAHLU4q9HYQ"
    },
    {
      "cell_type": "code",
      "execution_count": null,
      "metadata": {
        "id": "MLqz11UioD4Q"
      },
      "outputs": [],
      "source": [
        "# Option 1: Load into Hugging Face Datasets\n",
        "!wget https://raw.githubusercontent.com/tuetschek/e2e-dataset/master/trainset.csv -P e2e-dataset\n",
        "import pandas as pd\n",
        "from datasets import Dataset\n",
        "\n",
        "df = pd.read_csv(\"e2e-dataset/trainset.csv\")\n",
        "custom_dataset = Dataset.from_pandas(df)"
      ],
      "id": "MLqz11UioD4Q"
    },
    {
      "cell_type": "code",
      "execution_count": null,
      "metadata": {
        "id": "lRauc5JBoD4R"
      },
      "outputs": [],
      "source": [
        "import csv\n",
        "from torch.utils.data import Dataset, DataLoader\n",
        "\n",
        "class E2EDataset(Dataset):\n",
        "    \"\"\"Tokenize data when we call __getitem__\"\"\"\n",
        "    def __init__(self, path, tokenizer):\n",
        "        with open(path, newline=\"\") as f:\n",
        "            reader = csv.reader(f)\n",
        "            next(reader) # skip the heading\n",
        "            self.data = [{\"source\": row[0], \"target\": row[1]} for row in reader]\n",
        "        self.tokenizer = tokenizer\n",
        "\n",
        "    def __getitem__(self, i):\n",
        "        inputs = self.tokenizer(self.data[i]['source'])\n",
        "        labels = self.tokenizer(self.data[i]['target'])\n",
        "        inputs['labels'] = labels.input_ids\n",
        "        return inputs\n"
      ],
      "id": "lRauc5JBoD4R"
    },
    {
      "cell_type": "code",
      "execution_count": null,
      "metadata": {
        "collapsed": true,
        "id": "eRu5mFIpoD4R"
      },
      "outputs": [],
      "source": [
        "bart_tokenizer = AutoTokenizer.from_pretrained('facebook/bart-base')"
      ],
      "id": "eRu5mFIpoD4R"
    },
    {
      "cell_type": "code",
      "execution_count": null,
      "metadata": {
        "id": "I32zL1nEoD4S"
      },
      "outputs": [],
      "source": [
        "dataset = E2EDataset(\"e2e-dataset/trainset.csv\", bart_tokenizer)"
      ],
      "id": "I32zL1nEoD4S"
    },
    {
      "cell_type": "code",
      "execution_count": null,
      "metadata": {
        "id": "I50Sh862oD4T"
      },
      "outputs": [],
      "source": [
        "bart_tokenizer.prepare_seq2seq_batch(src_texts=[\"This is the first test.\", \"This is the second test.\"], tgt_texts=[\"Target 1\", \"Target 2\"], return_tensors=\"pt\")"
      ],
      "id": "I50Sh862oD4T"
    },
    {
      "cell_type": "code",
      "execution_count": null,
      "metadata": {
        "id": "w8frTRD3oD4T"
      },
      "outputs": [],
      "source": [
        "dataset[0]"
      ],
      "id": "w8frTRD3oD4T"
    },
    {
      "cell_type": "markdown",
      "metadata": {
        "id": "tHI3KuNZ-X8w"
      },
      "source": [
        "## Appendix 2: Pipelines\n",
        "\n",
        "There are some standard NLP tasks like sentiment classification or question answering where there are already pre-trained (and fine-tuned!) models available through Hugging Face Transformer's [_Pipeline_](https://huggingface.co/docs/transformers/v4.16.2/en/main_classes/pipelines#transformers.pipeline) interface.\n",
        "\n",
        "Here's an example with Sentiment Analysis:"
      ],
      "id": "tHI3KuNZ-X8w"
    },
    {
      "cell_type": "code",
      "execution_count": null,
      "metadata": {
        "collapsed": true,
        "id": "gOj5ODS0-X8x"
      },
      "outputs": [],
      "source": [
        "from transformers import pipeline\n",
        "\n",
        "sentiment_analysis = pipeline(\"sentiment-analysis\", model=\"siebert/sentiment-roberta-large-english\")"
      ],
      "id": "gOj5ODS0-X8x"
    },
    {
      "cell_type": "markdown",
      "metadata": {
        "id": "D5wZuMG2-X8y"
      },
      "source": [
        "You can run the pipeline by just calling it on a string"
      ],
      "id": "D5wZuMG2-X8y"
    },
    {
      "cell_type": "code",
      "execution_count": null,
      "metadata": {
        "id": "GrygLkiQ-X8y"
      },
      "outputs": [],
      "source": [
        "sentiment_analysis(\"Hugging Face Transformers is really cool!\")"
      ],
      "id": "GrygLkiQ-X8y"
    },
    {
      "cell_type": "markdown",
      "metadata": {
        "id": "0e2E8qKH-X8z"
      },
      "source": [
        "Or on a list of strings:"
      ],
      "id": "0e2E8qKH-X8z"
    },
    {
      "cell_type": "code",
      "execution_count": null,
      "metadata": {
        "id": "EpBvCpVM-X8z"
      },
      "outputs": [],
      "source": [
        "sentiment_analysis([\"I didn't know if I would like Hákarl, but it turned out pretty good.\",\n",
        "                    \"I didn't know if I would like Hákarl, and it was just as bad as I'd heard.\"])"
      ],
      "id": "EpBvCpVM-X8z"
    },
    {
      "cell_type": "markdown",
      "metadata": {
        "id": "Ptc0BViy-X80"
      },
      "source": [
        "You can find more information on pipelines (including which ones are available) [here](https://huggingface.co/docs/transformers/main_classes/pipelines)"
      ],
      "id": "Ptc0BViy-X80"
    },
    {
      "cell_type": "markdown",
      "metadata": {
        "id": "3oRAmG_w-X9H"
      },
      "source": [
        "## Appendix 3: Masked Language Modeling"
      ],
      "id": "3oRAmG_w-X9H"
    },
    {
      "cell_type": "code",
      "execution_count": null,
      "metadata": {
        "collapsed": true,
        "id": "ZXD2-Gsu-X9H"
      },
      "outputs": [],
      "source": [
        "from transformers import AutoModelForMaskedLM\n",
        "\n",
        "tokenizer = AutoTokenizer.from_pretrained(\"bert-base-cased\", fast=True)\n",
        "bert = AutoModelForMaskedLM.from_pretrained(\"bert-base-cased\")"
      ],
      "id": "ZXD2-Gsu-X9H"
    },
    {
      "cell_type": "code",
      "execution_count": null,
      "metadata": {
        "id": "fvfHGKrq-X9I"
      },
      "outputs": [],
      "source": [
        "prompt = \"I am [MASK] to learn about HuggingFace!\"\n",
        "model = pipeline(\"fill-mask\", \"bert-base-cased\")\n",
        "model(prompt)"
      ],
      "id": "fvfHGKrq-X9I"
    },
    {
      "cell_type": "code",
      "execution_count": null,
      "metadata": {
        "id": "0B2qek-v-X9I",
        "scrolled": true
      },
      "outputs": [],
      "source": [
        "inputs = tokenizer(prompt, return_tensors=\"pt\")\n",
        "mask_index = np.where(inputs['input_ids'] == tokenizer.mask_token_id)\n",
        "outputs = bert(**inputs)\n",
        "top_5_predictions = torch.softmax(outputs.logits[mask_index], dim=1).topk(5)\n",
        "\n",
        "print(prompt)\n",
        "for i in range(5):\n",
        "    prediction = tokenizer.decode(top_5_predictions.indices[0, i])\n",
        "    prob = top_5_predictions.values[0, i]\n",
        "    print(f\"  {i+1}) {prediction}\\t{prob:.3f}\")"
      ],
      "id": "0B2qek-v-X9I"
    }
  ],
  "metadata": {
    "accelerator": "GPU",
    "colab": {
      "gpuType": "T4",
      "provenance": []
    },
    "kernelspec": {
      "display_name": "Python 3",
      "name": "python3"
    },
    "language_info": {
      "codemirror_mode": {
        "name": "ipython",
        "version": 3
      },
      "file_extension": ".py",
      "mimetype": "text/x-python",
      "name": "python",
      "nbconvert_exporter": "python",
      "pygments_lexer": "ipython3",
      "version": "3.7.6"
    }
  },
  "nbformat": 4,
  "nbformat_minor": 5
}